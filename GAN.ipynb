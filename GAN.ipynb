{
  "nbformat": 4,
  "nbformat_minor": 0,
  "metadata": {
    "colab": {
      "name": "GAN.ipynb",
      "provenance": [],
      "authorship_tag": "ABX9TyPWX5Ahg/jzEP9DEjv9eqcV",
      "include_colab_link": true
    },
    "kernelspec": {
      "name": "python3",
      "display_name": "Python 3"
    },
    "accelerator": "GPU"
  },
  "cells": [
    {
      "cell_type": "markdown",
      "metadata": {
        "id": "view-in-github",
        "colab_type": "text"
      },
      "source": [
        "<a href=\"https://colab.research.google.com/github/Garg19/CCGAN/blob/master/GAN.ipynb\" target=\"_parent\"><img src=\"https://colab.research.google.com/assets/colab-badge.svg\" alt=\"Open In Colab\"/></a>"
      ]
    },
    {
      "cell_type": "code",
      "metadata": {
        "id": "MSuyH0FlVTyR",
        "outputId": "fc9e1270-2996-4488-ceaa-a8aa28a191f6",
        "colab": {
          "base_uri": "https://localhost:8080/",
          "height": 34
        }
      },
      "source": [
        "from google.colab import drive\n",
        "drive.mount('/content/drive')"
      ],
      "execution_count": 1,
      "outputs": [
        {
          "output_type": "stream",
          "text": [
            "Mounted at /content/drive\n"
          ],
          "name": "stdout"
        }
      ]
    },
    {
      "cell_type": "code",
      "metadata": {
        "id": "5reFoX_NVmGq"
      },
      "source": [
        "!unzip \"/content/drive/My Drive/UTKFace1.zip\""
      ],
      "execution_count": null,
      "outputs": []
    },
    {
      "cell_type": "code",
      "metadata": {
        "id": "w2-IgBz_VqYz"
      },
      "source": [
        "import tensorflow as tf\n",
        "from tensorflow.keras.layers import Input, Reshape, Dropout, Dense \n",
        "from tensorflow.keras.layers import Flatten, BatchNormalization\n",
        "from tensorflow.keras.layers import Activation, ZeroPadding2D\n",
        "from tensorflow.keras.layers import LeakyReLU\n",
        "from tensorflow.keras.layers import UpSampling2D, Conv2D,Embedding,Multiply,Concatenate\n",
        "from tensorflow.keras.models import Sequential, Model, load_model\n",
        "from tensorflow.keras.optimizers import Adam\n",
        "from keras.applications import VGG16\n",
        "import numpy as np\n",
        "from PIL import Image\n",
        "from tqdm import tqdm\n",
        "import os \n",
        "import time\n",
        "import matplotlib.pyplot as plt"
      ],
      "execution_count": 1,
      "outputs": []
    },
    {
      "cell_type": "code",
      "metadata": {
        "id": "M2aiJgBb-FhK"
      },
      "source": [
        "def hms_string(sec_elapsed):\n",
        "    h = int(sec_elapsed / (60 * 60))\n",
        "    m = int((sec_elapsed % (60 * 60)) / 60)\n",
        "    s = sec_elapsed % 60\n",
        "    return \"{}:{:>02}:{:>05.2f}\".format(h, m, s)"
      ],
      "execution_count": 2,
      "outputs": []
    },
    {
      "cell_type": "code",
      "metadata": {
        "id": "4b2kFeoiV5Pd",
        "outputId": "6daf6a02-32d9-42bd-8a73-0308ac3305f0",
        "colab": {
          "base_uri": "https://localhost:8080/",
          "height": 34
        }
      },
      "source": [
        "GENERATE_RES = 4\n",
        "GENERATE_SQUARE = 32 * GENERATE_RES \n",
        "IMAGE_CHANNELS = 3\n",
        "PREVIEW_ROWS = 4\n",
        "PREVIEW_COLS = 7\n",
        "PREVIEW_MARGIN = 16\n",
        "SEED_SIZE = 100\n",
        "DATA_PATH = '/content/UTKFace1/labeled'\n",
        "OUT_PATH = '/content/drive/My Drive/NewGAN'\n",
        "EPOCHS = 500\n",
        "BATCH_SIZE = 32\n",
        "BUFFER_SIZE = 60000\n",
        "num_classes = 120\n",
        "training_binary_path = os.path.join(OUT_PATH,f'training_data_{GENERATE_SQUARE}_{GENERATE_SQUARE}.npy')\n",
        "labeled_binary_path = os.path.join(OUT_PATH,f'labeled_data_{GENERATE_SQUARE}_{GENERATE_SQUARE}.npy')\n",
        "if not os.path.isfile(labeled_binary_path):\n",
        "  start = time.time()\n",
        "  print(\"Loading training images...\")\n",
        "\n",
        "  training_data = []\n",
        "  labels_data = []\n",
        "  faces_path = DATA_PATH\n",
        "  for filename in tqdm(os.listdir(faces_path)):\n",
        "      path = os.path.join(faces_path,filename)\n",
        "      image = Image.open(path).resize((GENERATE_SQUARE,GENERATE_SQUARE),Image.ANTIALIAS)\n",
        "      training_data.append(np.asarray(image))\n",
        "      labels_data.append(float(filename.split('_',1)[0]))\n",
        "  training_data = np.reshape(training_data,(-1,GENERATE_SQUARE,\n",
        "            GENERATE_SQUARE,IMAGE_CHANNELS))\n",
        "  training_data = training_data.astype(np.float32)\n",
        "  training_data = training_data / 127.5 - 1.\n",
        "\n",
        "\n",
        "  print(\"Saving training image binary...\")\n",
        "  np.save(training_binary_path,training_data)\n",
        "  np.save(labeled_binary_path,labels_data)\n",
        "  elapsed = time.time()-start\n",
        "else:\n",
        "  print(\"Loading previous training pickle...\")\n",
        "  training_data = np.load(training_binary_path)\n",
        "  labels_data = np.load(labeled_binary_path)\n",
        "train_dataset = tf.data.Dataset.from_tensor_slices((training_data,labels_data)).shuffle(BUFFER_SIZE).batch(BATCH_SIZE)"
      ],
      "execution_count": 3,
      "outputs": [
        {
          "output_type": "stream",
          "text": [
            "Loading previous training pickle...\n"
          ],
          "name": "stdout"
        }
      ]
    },
    {
      "cell_type": "code",
      "metadata": {
        "id": "v9x_oDnOXVi7"
      },
      "source": [
        "def build_generator(seed_size, channels):\n",
        "    model = Sequential()\n",
        "\n",
        "    model.add(Dense(4*4*256,activation=\"relu\",input_dim=seed_size))\n",
        "    model.add(Reshape((4,4,256)))\n",
        "\n",
        "    model.add(UpSampling2D())\n",
        "    model.add(Conv2D(256,kernel_size=3,padding=\"same\"))\n",
        "    model.add(BatchNormalization(momentum=0.8))\n",
        "    model.add(Activation(\"relu\"))\n",
        "\n",
        "    model.add(UpSampling2D())\n",
        "    model.add(Conv2D(256,kernel_size=3,padding=\"same\"))\n",
        "    model.add(BatchNormalization(momentum=0.8))\n",
        "    model.add(Activation(\"relu\"))\n",
        "  \n",
        "    model.add(UpSampling2D())\n",
        "    model.add(Conv2D(128,kernel_size=3,padding=\"same\"))\n",
        "    model.add(BatchNormalization(momentum=0.8))\n",
        "    model.add(Activation(\"relu\"))\n",
        "\n",
        "    if GENERATE_RES>1:\n",
        "      model.add(UpSampling2D(size=(GENERATE_RES,GENERATE_RES)))\n",
        "      model.add(Conv2D(128,kernel_size=3,padding=\"same\"))\n",
        "      model.add(BatchNormalization(momentum=0.8))\n",
        "      model.add(Activation(\"relu\"))\n",
        "\n",
        "    model.add(Conv2D(channels,kernel_size=3,padding=\"same\"))\n",
        "    model.add(Activation(\"tanh\"))\n",
        "    # model.summary();\n",
        "    return model\n",
        "\n",
        "def build_cgan_generator(z_dim,channels):\n",
        "\n",
        "    z = Input(shape=(z_dim, ))\n",
        "    label = Input(shape=(1, ))\n",
        "    label_embedding = Embedding(num_classes, z_dim, input_length=1)(label)\n",
        "    label_embedding = Flatten()(label_embedding)\n",
        "    joined_representation = Multiply()([z, label_embedding])\n",
        "    generator = build_generator(z_dim,channels)\n",
        "    conditioned_img = generator(joined_representation)\n",
        "    return Model([z, label], conditioned_img)\n",
        "\n",
        "\n",
        "\n",
        "def build_discriminator(image_shape):\n",
        "    model = Sequential()\n",
        "\n",
        "    model.add(Conv2D(32, kernel_size=3, strides=2, input_shape=[image_shape[0],image_shape[1],image_shape[2]*2], \n",
        "                     padding=\"same\"))\n",
        "    model.add(LeakyReLU(alpha=0.2))\n",
        "\n",
        "    model.add(Dropout(0.25))\n",
        "    model.add(Conv2D(64, kernel_size=3, strides=2, padding=\"same\"))\n",
        "    model.add(ZeroPadding2D(padding=((0,1),(0,1))))\n",
        "    model.add(BatchNormalization(momentum=0.8))\n",
        "    model.add(LeakyReLU(alpha=0.2))\n",
        "\n",
        "    model.add(Dropout(0.25))\n",
        "    model.add(Conv2D(128, kernel_size=3, strides=2, padding=\"same\"))\n",
        "    model.add(BatchNormalization(momentum=0.8))\n",
        "    model.add(LeakyReLU(alpha=0.2))\n",
        "\n",
        "    model.add(Dropout(0.25))\n",
        "    model.add(Conv2D(256, kernel_size=3, strides=1, padding=\"same\"))\n",
        "    model.add(BatchNormalization(momentum=0.8))\n",
        "    model.add(LeakyReLU(alpha=0.2))\n",
        "\n",
        "    model.add(Dropout(0.25))\n",
        "    model.add(Conv2D(512, kernel_size=3, strides=1, padding=\"same\"))\n",
        "    model.add(BatchNormalization(momentum=0.8))\n",
        "    model.add(LeakyReLU(alpha=0.2))\n",
        "\n",
        "    model.add(Dropout(0.25))\n",
        "    model.add(Flatten())\n",
        "    model.add(Dense(1, activation='sigmoid'))\n",
        "    # model.summary();\n",
        "    return model\n",
        "def build_cgan_discriminator(image_shape):\n",
        "\n",
        "    img = Input(shape=image_shape)\n",
        "    label = Input(shape=(1, ))\n",
        "    \n",
        "    label_embedding = Embedding(num_classes,np.prod(image_shape),input_length=1)(label)\n",
        "    label_embedding = Flatten()(label_embedding)\n",
        "    # Reshape label embeddings to have same dimensions as input images\n",
        "    label_embedding = Reshape(image_shape)(label_embedding)\n",
        "\n",
        "    # Concatenate images with their label embeddings\n",
        "    concatenated = Concatenate(axis=-1)([img, label_embedding])\n",
        "\n",
        "    discriminator = build_discriminator(image_shape)\n",
        "\n",
        "    # Classify the image-label pair\n",
        "    classification = discriminator(concatenated)\n",
        "    return Model([img, label], classification)"
      ],
      "execution_count": 4,
      "outputs": []
    },
    {
      "cell_type": "code",
      "metadata": {
        "id": "5VjD3VsZCg1t",
        "outputId": "ae73cb87-dfbf-4f52-883c-7ef202c630e8",
        "colab": {
          "base_uri": "https://localhost:8080/",
          "height": 833
        }
      },
      "source": [
        "gen = build_generator(SEED_SIZE,IMAGE_CHANNELS)\n",
        "gen.summary()"
      ],
      "execution_count": 5,
      "outputs": [
        {
          "output_type": "stream",
          "text": [
            "Model: \"sequential\"\n",
            "_________________________________________________________________\n",
            "Layer (type)                 Output Shape              Param #   \n",
            "=================================================================\n",
            "dense (Dense)                (None, 4096)              413696    \n",
            "_________________________________________________________________\n",
            "reshape (Reshape)            (None, 4, 4, 256)         0         \n",
            "_________________________________________________________________\n",
            "up_sampling2d (UpSampling2D) (None, 8, 8, 256)         0         \n",
            "_________________________________________________________________\n",
            "conv2d (Conv2D)              (None, 8, 8, 256)         590080    \n",
            "_________________________________________________________________\n",
            "batch_normalization (BatchNo (None, 8, 8, 256)         1024      \n",
            "_________________________________________________________________\n",
            "activation (Activation)      (None, 8, 8, 256)         0         \n",
            "_________________________________________________________________\n",
            "up_sampling2d_1 (UpSampling2 (None, 16, 16, 256)       0         \n",
            "_________________________________________________________________\n",
            "conv2d_1 (Conv2D)            (None, 16, 16, 256)       590080    \n",
            "_________________________________________________________________\n",
            "batch_normalization_1 (Batch (None, 16, 16, 256)       1024      \n",
            "_________________________________________________________________\n",
            "activation_1 (Activation)    (None, 16, 16, 256)       0         \n",
            "_________________________________________________________________\n",
            "up_sampling2d_2 (UpSampling2 (None, 32, 32, 256)       0         \n",
            "_________________________________________________________________\n",
            "conv2d_2 (Conv2D)            (None, 32, 32, 128)       295040    \n",
            "_________________________________________________________________\n",
            "batch_normalization_2 (Batch (None, 32, 32, 128)       512       \n",
            "_________________________________________________________________\n",
            "activation_2 (Activation)    (None, 32, 32, 128)       0         \n",
            "_________________________________________________________________\n",
            "up_sampling2d_3 (UpSampling2 (None, 128, 128, 128)     0         \n",
            "_________________________________________________________________\n",
            "conv2d_3 (Conv2D)            (None, 128, 128, 128)     147584    \n",
            "_________________________________________________________________\n",
            "batch_normalization_3 (Batch (None, 128, 128, 128)     512       \n",
            "_________________________________________________________________\n",
            "activation_3 (Activation)    (None, 128, 128, 128)     0         \n",
            "_________________________________________________________________\n",
            "conv2d_4 (Conv2D)            (None, 128, 128, 3)       3459      \n",
            "_________________________________________________________________\n",
            "activation_4 (Activation)    (None, 128, 128, 3)       0         \n",
            "=================================================================\n",
            "Total params: 2,043,011\n",
            "Trainable params: 2,041,475\n",
            "Non-trainable params: 1,536\n",
            "_________________________________________________________________\n"
          ],
          "name": "stdout"
        }
      ]
    },
    {
      "cell_type": "code",
      "metadata": {
        "id": "aCF7UqmRDLGF",
        "outputId": "2333d47a-9bf6-4e8e-d8b9-81d94dfdc309",
        "colab": {
          "base_uri": "https://localhost:8080/",
          "height": 901
        }
      },
      "source": [
        "dis = build_discriminator((GENERATE_SQUARE,GENERATE_SQUARE,IMAGE_CHANNELS))\n",
        "dis.summary()"
      ],
      "execution_count": 6,
      "outputs": [
        {
          "output_type": "stream",
          "text": [
            "Model: \"sequential_1\"\n",
            "_________________________________________________________________\n",
            "Layer (type)                 Output Shape              Param #   \n",
            "=================================================================\n",
            "conv2d_5 (Conv2D)            (None, 64, 64, 32)        1760      \n",
            "_________________________________________________________________\n",
            "leaky_re_lu (LeakyReLU)      (None, 64, 64, 32)        0         \n",
            "_________________________________________________________________\n",
            "dropout (Dropout)            (None, 64, 64, 32)        0         \n",
            "_________________________________________________________________\n",
            "conv2d_6 (Conv2D)            (None, 32, 32, 64)        18496     \n",
            "_________________________________________________________________\n",
            "zero_padding2d (ZeroPadding2 (None, 33, 33, 64)        0         \n",
            "_________________________________________________________________\n",
            "batch_normalization_4 (Batch (None, 33, 33, 64)        256       \n",
            "_________________________________________________________________\n",
            "leaky_re_lu_1 (LeakyReLU)    (None, 33, 33, 64)        0         \n",
            "_________________________________________________________________\n",
            "dropout_1 (Dropout)          (None, 33, 33, 64)        0         \n",
            "_________________________________________________________________\n",
            "conv2d_7 (Conv2D)            (None, 17, 17, 128)       73856     \n",
            "_________________________________________________________________\n",
            "batch_normalization_5 (Batch (None, 17, 17, 128)       512       \n",
            "_________________________________________________________________\n",
            "leaky_re_lu_2 (LeakyReLU)    (None, 17, 17, 128)       0         \n",
            "_________________________________________________________________\n",
            "dropout_2 (Dropout)          (None, 17, 17, 128)       0         \n",
            "_________________________________________________________________\n",
            "conv2d_8 (Conv2D)            (None, 17, 17, 256)       295168    \n",
            "_________________________________________________________________\n",
            "batch_normalization_6 (Batch (None, 17, 17, 256)       1024      \n",
            "_________________________________________________________________\n",
            "leaky_re_lu_3 (LeakyReLU)    (None, 17, 17, 256)       0         \n",
            "_________________________________________________________________\n",
            "dropout_3 (Dropout)          (None, 17, 17, 256)       0         \n",
            "_________________________________________________________________\n",
            "conv2d_9 (Conv2D)            (None, 17, 17, 512)       1180160   \n",
            "_________________________________________________________________\n",
            "batch_normalization_7 (Batch (None, 17, 17, 512)       2048      \n",
            "_________________________________________________________________\n",
            "leaky_re_lu_4 (LeakyReLU)    (None, 17, 17, 512)       0         \n",
            "_________________________________________________________________\n",
            "dropout_4 (Dropout)          (None, 17, 17, 512)       0         \n",
            "_________________________________________________________________\n",
            "flatten (Flatten)            (None, 147968)            0         \n",
            "_________________________________________________________________\n",
            "dense_1 (Dense)              (None, 1)                 147969    \n",
            "=================================================================\n",
            "Total params: 1,721,249\n",
            "Trainable params: 1,719,329\n",
            "Non-trainable params: 1,920\n",
            "_________________________________________________________________\n"
          ],
          "name": "stdout"
        }
      ]
    },
    {
      "cell_type": "code",
      "metadata": {
        "id": "PeCKUsDHX5oJ"
      },
      "source": [
        "def save_images(cnt,noise):\n",
        "  image_array = np.full(( \n",
        "      PREVIEW_MARGIN + (PREVIEW_ROWS * (GENERATE_SQUARE+PREVIEW_MARGIN)), \n",
        "      PREVIEW_MARGIN + (PREVIEW_COLS * (GENERATE_SQUARE+PREVIEW_MARGIN)), 3), \n",
        "      255, dtype=np.uint8)\n",
        "  \n",
        "  generated_images = generator.predict(noise)\n",
        "\n",
        "  generated_images = 0.5 * generated_images + 0.5\n",
        "\n",
        "  image_count = 0\n",
        "  for row in range(PREVIEW_ROWS):\n",
        "      for col in range(PREVIEW_COLS):\n",
        "        r = row * (GENERATE_SQUARE+16) + PREVIEW_MARGIN\n",
        "        c = col * (GENERATE_SQUARE+16) + PREVIEW_MARGIN\n",
        "        image_array[r:r+GENERATE_SQUARE,c:c+GENERATE_SQUARE] = generated_images[image_count] * 255\n",
        "        image_count += 1\n",
        "\n",
        "          \n",
        "  output_path = os.path.join(OUT_PATH,'output')\n",
        "  if not os.path.exists(output_path):\n",
        "    os.makedirs(output_path)\n",
        "  \n",
        "  filename = os.path.join(output_path,f\"train-{cnt}.png\")\n",
        "  im = Image.fromarray(image_array)\n",
        "  im.save(filename)"
      ],
      "execution_count": 7,
      "outputs": []
    },
    {
      "cell_type": "code",
      "metadata": {
        "id": "pJ95lx2JX7VD",
        "outputId": "2d148191-e694-40af-f1de-e6251f120a9b",
        "colab": {
          "base_uri": "https://localhost:8080/",
          "height": 319
        }
      },
      "source": [
        "generator = tf.keras.models.load_model(\"/content/drive/My Drive/NewGAN/face_generator.h5\")\n",
        "\n",
        "noise = tf.random.normal([1, SEED_SIZE])\n",
        "label = np.random.uniform(0,num_classes,(1, 1))\n",
        "generated_image = generator([noise,label], training=False)\n",
        "\n",
        "plt.imshow(generated_image[0, :, :, 0])\n",
        "image_shape = (GENERATE_SQUARE,GENERATE_SQUARE,IMAGE_CHANNELS)\n",
        "\n",
        "discriminator = tf.keras.models.load_model(\"/content/drive/My Drive/NewGAN/face_discriminrator.h5\")\n",
        "decision = discriminator([generated_image,label])\n",
        "print (decision)\n",
        "\n",
        "generator_optimizer = tf.keras.optimizers.Adam(1e-5,0.5)\n",
        "discriminator_optimizer = tf.keras.optimizers.Adam(2e-5,0.5)\n",
        "cross_entropy = tf.keras.losses.BinaryCrossentropy(from_logits=True)\n",
        "\n",
        "def discriminator_loss(real_output, fake_output):\n",
        "    real_loss = cross_entropy(tf.ones_like(real_output), real_output)\n",
        "    fake_loss = cross_entropy(tf.zeros_like(fake_output), fake_output)\n",
        "    total_loss = real_loss + fake_loss\n",
        "    return total_loss\n",
        "\n",
        "def generator_loss(fake_output):\n",
        "    return cross_entropy(tf.ones_like(fake_output), fake_output)"
      ],
      "execution_count": 21,
      "outputs": [
        {
          "output_type": "stream",
          "text": [
            "WARNING:tensorflow:No training configuration found in the save file, so the model was *not* compiled. Compile it manually.\n",
            "WARNING:tensorflow:No training configuration found in the save file, so the model was *not* compiled. Compile it manually.\n",
            "tf.Tensor([[0.00389206]], shape=(1, 1), dtype=float32)\n"
          ],
          "name": "stdout"
        },
        {
          "output_type": "display_data",
          "data": {
            "image/png": "[encoded data removed]",
            "text/plain": [
              "<Figure size 432x288 with 1 Axes>"
            ]
          },
          "metadata": {
            "tags": [],
            "needs_background": "light"
          }
        }
      ]
    },
    {
      "cell_type": "code",
      "metadata": {
        "id": "nGgqDC8yYTCP"
      },
      "source": [
        "@tf.function\n",
        "def train_step(images,labels):\n",
        "  seed = tf.random.normal([BATCH_SIZE, SEED_SIZE])\n",
        "\n",
        "  with tf.GradientTape() as gen_tape, tf.GradientTape() as disc_tape:\n",
        "    generated_images = generator([seed,labels], training=True)\n",
        "\n",
        "    real_output = discriminator([images,labels], training=True)\n",
        "    fake_output = discriminator([generated_images,labels], training=True)\n",
        "\n",
        "    gen_loss = generator_loss(fake_output)\n",
        "    disc_loss = discriminator_loss(real_output, fake_output)\n",
        "    \n",
        "\n",
        "    gradients_of_generator = gen_tape.gradient(gen_loss, generator.trainable_variables)\n",
        "    gradients_of_discriminator = disc_tape.gradient(disc_loss, discriminator.trainable_variables)\n",
        "\n",
        "    generator_optimizer.apply_gradients(zip(gradients_of_generator, generator.trainable_variables))\n",
        "    discriminator_optimizer.apply_gradients(zip(gradients_of_discriminator, discriminator.trainable_variables))\n",
        "  return gen_loss,disc_loss"
      ],
      "execution_count": 17,
      "outputs": []
    },
    {
      "cell_type": "code",
      "metadata": {
        "id": "yAE5iTsqYoUE"
      },
      "source": [
        "def train(dataset, epochs):\n",
        "  fixed_seed = tf.random.normal([1, SEED_SIZE])\n",
        "  fixed_seed = tf.repeat(fixed_seed,28,0)\n",
        "  fixed_seed_labels = np.arange(1,85,3)\n",
        "  start = time.time()\n",
        "\n",
        "  for epoch in range(epochs):\n",
        "    epoch_start = time.time()\n",
        "\n",
        "    gen_loss_list = []\n",
        "    disc_loss_list = []\n",
        "    k = 0;\n",
        "    for image_batch in dataset.as_numpy_iterator():\n",
        "      if image_batch[0].shape[0]==BATCH_SIZE:\n",
        "        t = train_step(image_batch[0],image_batch[1])\n",
        "        gen_loss_list.append(t[0])\n",
        "        disc_loss_list.append(t[1])\n",
        "        k = k+1\n",
        "    print(k)\n",
        "    if (epoch+1)%50==0:\n",
        "      print(fixed_seed_labels)\n",
        "      generator.save(os.path.join(OUT_PATH,\"face_generator.h5\"))\n",
        "      discriminator.save(os.path.join(OUT_PATH,\"face_discriminrator.h5\"))\n",
        "    \n",
        "    g_loss = sum(gen_loss_list) / len(gen_loss_list)\n",
        "    d_loss = sum(disc_loss_list) / len(disc_loss_list)\n",
        "\n",
        "    epoch_elapsed = time.time()-epoch_start\n",
        "    print (f'Epoch {epoch+1}, gen loss={g_loss},disc loss={d_loss},{hms_string(epoch_elapsed)}')\n",
        "    save_images(epoch,[fixed_seed,fixed_seed_labels])\n",
        "  elapsed = time.time()-start\n",
        "  print (f'Training time: {hms_string(elapsed)}')"
      ],
      "execution_count": null,
      "outputs": []
    },
    {
      "cell_type": "code",
      "metadata": {
        "id": "7Qj3y_eyYvX4",
        "outputId": "25ca5371-5f91-411c-e155-a72ad2ffa06b",
        "colab": {
          "base_uri": "https://localhost:8080/",
          "height": 765
        }
      },
      "source": [
        "train(train_dataset, EPOCHS)"
      ],
      "execution_count": null,
      "outputs": [
        {
          "output_type": "stream",
          "text": [
            "460\n",
            "Epoch 1, gen loss=0.6919736266136169,disc loss=1.009616494178772,0:01:38.44\n",
            "460\n",
            "Epoch 2, gen loss=0.693049967288971,disc loss=1.006645679473877,0:01:35.82\n",
            "460\n",
            "Epoch 3, gen loss=0.6928963661193848,disc loss=1.0070966482162476,0:01:35.64\n",
            "460\n",
            "Epoch 4, gen loss=0.6923174262046814,disc loss=1.0080950260162354,0:01:35.93\n",
            "460\n",
            "Epoch 5, gen loss=0.6930860280990601,disc loss=1.0065641403198242,0:01:35.26\n",
            "460\n",
            "Epoch 6, gen loss=0.6925548911094666,disc loss=1.0080682039260864,0:01:35.44\n",
            "460\n",
            "Epoch 7, gen loss=0.6920915842056274,disc loss=1.0100011825561523,0:01:35.37\n",
            "460\n",
            "Epoch 8, gen loss=0.6921079754829407,disc loss=1.010901689529419,0:01:35.32\n",
            "460\n",
            "Epoch 9, gen loss=0.6915024518966675,disc loss=1.011186122894287,0:01:35.47\n",
            "460\n",
            "Epoch 10, gen loss=0.6916275024414062,disc loss=1.011337399482727,0:01:35.28\n",
            "460\n",
            "Epoch 11, gen loss=0.6925034523010254,disc loss=1.0083686113357544,0:01:35.46\n",
            "460\n",
            "Epoch 12, gen loss=0.6925773024559021,disc loss=1.008119821548462,0:01:35.91\n",
            "460\n",
            "Epoch 13, gen loss=0.693047046661377,disc loss=1.006675362586975,0:01:35.34\n",
            "460\n",
            "Epoch 14, gen loss=0.6919336318969727,disc loss=1.0096474885940552,0:01:35.21\n",
            "460\n",
            "Epoch 15, gen loss=0.6923697590827942,disc loss=1.008326768875122,0:01:35.21\n",
            "460\n",
            "Epoch 16, gen loss=0.6927251815795898,disc loss=1.0075222253799438,0:01:35.26\n",
            "460\n",
            "Epoch 17, gen loss=0.693030059337616,disc loss=1.0066944360733032,0:01:35.21\n",
            "460\n",
            "Epoch 18, gen loss=0.6923399567604065,disc loss=1.0084702968597412,0:01:35.44\n",
            "460\n",
            "Epoch 19, gen loss=0.6925240755081177,disc loss=1.0081872940063477,0:01:35.19\n",
            "460\n",
            "Epoch 20, gen loss=0.6929375529289246,disc loss=1.0068542957305908,0:01:35.22\n",
            "460\n",
            "Epoch 21, gen loss=0.6925922632217407,disc loss=1.0078834295272827,0:01:35.24\n",
            "460\n",
            "Epoch 22, gen loss=0.6917394399642944,disc loss=1.0093568563461304,0:01:35.21\n"
          ],
          "name": "stdout"
        }
      ]
    },
    {
      "cell_type": "code",
      "metadata": {
        "id": "aQi12IFebJcH"
      },
      "source": [
        "noise = tf.random.normal([1, SEED_SIZE])\n",
        "noise = tf.repeat(noise,28,0)\n",
        "labels = np.arange(1,85,3)\n",
        "save_images(-1,[noise,labels])"
      ],
      "execution_count": null,
      "outputs": []
    },
    {
      "cell_type": "code",
      "metadata": {
        "id": "7blR6cRnbKBQ",
        "outputId": "f8c1714a-0152-425f-9d21-debd6ab57789",
        "colab": {
          "base_uri": "https://localhost:8080/",
          "height": 51
        }
      },
      "source": [
        "print(labels)"
      ],
      "execution_count": null,
      "outputs": [
        {
          "output_type": "stream",
          "text": [
            "[ 1  4  7 10 13 16 19 22 25 28 31 34 37 40 43 46 49 52 55 58 61 64 67 70\n",
            " 73 76 79 82]\n"
          ],
          "name": "stdout"
        }
      ]
    },
    {
      "cell_type": "code",
      "metadata": {
        "id": "T2qiFHWjiQSw"
      },
      "source": [
        ""
      ],
      "execution_count": null,
      "outputs": []
    }
  ]
}